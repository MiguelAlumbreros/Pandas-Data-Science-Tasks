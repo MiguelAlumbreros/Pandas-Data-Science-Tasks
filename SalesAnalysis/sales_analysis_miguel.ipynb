{
 "cells": [
  {
   "cell_type": "markdown",
   "id": "cbdd2034",
   "metadata": {},
   "source": [
    "# Import necessary libraries"
   ]
  },
  {
   "cell_type": "code",
   "execution_count": 392,
   "id": "eed8aed9",
   "metadata": {},
   "outputs": [],
   "source": [
    "import os\n",
    "import pandas as pd"
   ]
  },
  {
   "cell_type": "markdown",
   "id": "3dd4a0da",
   "metadata": {},
   "source": [
    "## Merging all months of data into a single file"
   ]
  },
  {
   "cell_type": "code",
   "execution_count": 393,
   "id": "0b7bc095",
   "metadata": {},
   "outputs": [],
   "source": [
    "# read all files in data folder and convert them to df\n",
    "df = pd.read_csv(\"./Sales_Data/Sales_April_2019.csv\")\n",
    "\n",
    "files = os.listdir(\"./Sales_Data\")\n",
    "files\n",
    "\n",
    "df_list = []\n",
    "for file in files:\n",
    "        df = pd.read_csv(f'./Sales_Data/{file}')\n",
    "        df_list.append(df)\n",
    "\n",
    "# join dfs and save to csv\n",
    "df_total = pd.concat(df_list)\n",
    "df_total.to_csv('./Sales_Data/Sales_all.csv', index = False)"
   ]
  },
  {
   "cell_type": "markdown",
   "id": "5494b0da",
   "metadata": {},
   "source": [
    "### Read csv"
   ]
  },
  {
   "cell_type": "code",
   "execution_count": 394,
   "id": "171515cc",
   "metadata": {},
   "outputs": [],
   "source": [
    "all_data = pd.read_csv('./Sales_Data/Sales_all.csv')\n",
    "\n",
    "count_rows_start = len(all_data)"
   ]
  },
  {
   "cell_type": "markdown",
   "id": "46a720a0",
   "metadata": {},
   "source": [
    "### Clean data"
   ]
  },
  {
   "cell_type": "code",
   "execution_count": 395,
   "id": "d5b50de2",
   "metadata": {},
   "outputs": [
    {
     "name": "stdout",
     "output_type": "stream",
     "text": [
      "Removed 1090 rows. Now 372610 in total\n",
      "Removed 710 rows. Now 371900 in total\n"
     ]
    },
    {
     "data": {
      "text/html": [
       "<div>\n",
       "<style scoped>\n",
       "    .dataframe tbody tr th:only-of-type {\n",
       "        vertical-align: middle;\n",
       "    }\n",
       "\n",
       "    .dataframe tbody tr th {\n",
       "        vertical-align: top;\n",
       "    }\n",
       "\n",
       "    .dataframe thead th {\n",
       "        text-align: right;\n",
       "    }\n",
       "</style>\n",
       "<table border=\"1\" class=\"dataframe\">\n",
       "  <thead>\n",
       "    <tr style=\"text-align: right;\">\n",
       "      <th></th>\n",
       "      <th>Order ID</th>\n",
       "      <th>Product</th>\n",
       "      <th>Quantity Ordered</th>\n",
       "      <th>Price Each</th>\n",
       "      <th>Order Date</th>\n",
       "      <th>Purchase Address</th>\n",
       "    </tr>\n",
       "  </thead>\n",
       "  <tbody>\n",
       "    <tr>\n",
       "      <th>0</th>\n",
       "      <td>176558</td>\n",
       "      <td>USB-C Charging Cable</td>\n",
       "      <td>2</td>\n",
       "      <td>11.95</td>\n",
       "      <td>04/19/19 08:46</td>\n",
       "      <td>917 1st St, Dallas, TX 75001</td>\n",
       "    </tr>\n",
       "    <tr>\n",
       "      <th>2</th>\n",
       "      <td>176559</td>\n",
       "      <td>Bose SoundSport Headphones</td>\n",
       "      <td>1</td>\n",
       "      <td>99.99</td>\n",
       "      <td>04/07/19 22:30</td>\n",
       "      <td>682 Chestnut St, Boston, MA 02215</td>\n",
       "    </tr>\n",
       "    <tr>\n",
       "      <th>3</th>\n",
       "      <td>176560</td>\n",
       "      <td>Google Phone</td>\n",
       "      <td>1</td>\n",
       "      <td>600</td>\n",
       "      <td>04/12/19 14:38</td>\n",
       "      <td>669 Spruce St, Los Angeles, CA 90001</td>\n",
       "    </tr>\n",
       "    <tr>\n",
       "      <th>4</th>\n",
       "      <td>176560</td>\n",
       "      <td>Wired Headphones</td>\n",
       "      <td>1</td>\n",
       "      <td>11.99</td>\n",
       "      <td>04/12/19 14:38</td>\n",
       "      <td>669 Spruce St, Los Angeles, CA 90001</td>\n",
       "    </tr>\n",
       "    <tr>\n",
       "      <th>5</th>\n",
       "      <td>176561</td>\n",
       "      <td>Wired Headphones</td>\n",
       "      <td>1</td>\n",
       "      <td>11.99</td>\n",
       "      <td>04/30/19 09:27</td>\n",
       "      <td>333 8th St, Los Angeles, CA 90001</td>\n",
       "    </tr>\n",
       "  </tbody>\n",
       "</table>\n",
       "</div>"
      ],
      "text/plain": [
       "  Order ID                     Product Quantity Ordered Price Each  \\\n",
       "0   176558        USB-C Charging Cable                2      11.95   \n",
       "2   176559  Bose SoundSport Headphones                1      99.99   \n",
       "3   176560                Google Phone                1        600   \n",
       "4   176560            Wired Headphones                1      11.99   \n",
       "5   176561            Wired Headphones                1      11.99   \n",
       "\n",
       "       Order Date                      Purchase Address  \n",
       "0  04/19/19 08:46          917 1st St, Dallas, TX 75001  \n",
       "2  04/07/19 22:30     682 Chestnut St, Boston, MA 02215  \n",
       "3  04/12/19 14:38  669 Spruce St, Los Angeles, CA 90001  \n",
       "4  04/12/19 14:38  669 Spruce St, Los Angeles, CA 90001  \n",
       "5  04/30/19 09:27     333 8th St, Los Angeles, CA 90001  "
      ]
     },
     "execution_count": 395,
     "metadata": {},
     "output_type": "execute_result"
    }
   ],
   "source": [
    "# Remove NaN rows\n",
    "all_data = all_data.dropna(how = 'all')\n",
    "all_data.reset_index()\n",
    "\n",
    "# status\n",
    "print(f'Removed {count_rows_start - len(all_data)} rows. Now {len(all_data)} in total')\n",
    "count_rows_start = len(all_data)\n",
    "\n",
    "\n",
    "# Remove 'Or' rows. Assign all_data to all_data given != condition\n",
    "temp_df = all_data[all_data['Order Date'].str[:2] == 'Or']\n",
    "\n",
    "all_data = all_data[all_data['Order Date'].str[:2] != 'Or']\n",
    "\n",
    "# status\n",
    "print(f'Removed {count_rows_start - len(all_data)} rows. Now {len(all_data)} in total')\n",
    "count_rows_start = len(all_data)\n",
    "\n",
    "all_data.head()"
   ]
  },
  {
   "cell_type": "markdown",
   "id": "f74affee",
   "metadata": {},
   "source": [
    "### Q1: What was the best month for sales? How much was earned that month?"
   ]
  },
  {
   "cell_type": "code",
   "execution_count": 396,
   "id": "a175c859",
   "metadata": {},
   "outputs": [
    {
     "data": {
      "text/html": [
       "<div>\n",
       "<style scoped>\n",
       "    .dataframe tbody tr th:only-of-type {\n",
       "        vertical-align: middle;\n",
       "    }\n",
       "\n",
       "    .dataframe tbody tr th {\n",
       "        vertical-align: top;\n",
       "    }\n",
       "\n",
       "    .dataframe thead th {\n",
       "        text-align: right;\n",
       "    }\n",
       "</style>\n",
       "<table border=\"1\" class=\"dataframe\">\n",
       "  <thead>\n",
       "    <tr style=\"text-align: right;\">\n",
       "      <th></th>\n",
       "      <th>Order ID</th>\n",
       "      <th>Product</th>\n",
       "      <th>Quantity Ordered</th>\n",
       "      <th>Price Each</th>\n",
       "      <th>Order Date</th>\n",
       "      <th>Purchase Address</th>\n",
       "      <th>Month</th>\n",
       "      <th>Revenue</th>\n",
       "    </tr>\n",
       "  </thead>\n",
       "  <tbody>\n",
       "    <tr>\n",
       "      <th>0</th>\n",
       "      <td>176558</td>\n",
       "      <td>USB-C Charging Cable</td>\n",
       "      <td>2</td>\n",
       "      <td>11.95</td>\n",
       "      <td>04/19/19 08:46</td>\n",
       "      <td>917 1st St, Dallas, TX 75001</td>\n",
       "      <td>4</td>\n",
       "      <td>23.90</td>\n",
       "    </tr>\n",
       "    <tr>\n",
       "      <th>2</th>\n",
       "      <td>176559</td>\n",
       "      <td>Bose SoundSport Headphones</td>\n",
       "      <td>1</td>\n",
       "      <td>99.99</td>\n",
       "      <td>04/07/19 22:30</td>\n",
       "      <td>682 Chestnut St, Boston, MA 02215</td>\n",
       "      <td>4</td>\n",
       "      <td>99.99</td>\n",
       "    </tr>\n",
       "    <tr>\n",
       "      <th>3</th>\n",
       "      <td>176560</td>\n",
       "      <td>Google Phone</td>\n",
       "      <td>1</td>\n",
       "      <td>600.00</td>\n",
       "      <td>04/12/19 14:38</td>\n",
       "      <td>669 Spruce St, Los Angeles, CA 90001</td>\n",
       "      <td>4</td>\n",
       "      <td>600.00</td>\n",
       "    </tr>\n",
       "    <tr>\n",
       "      <th>4</th>\n",
       "      <td>176560</td>\n",
       "      <td>Wired Headphones</td>\n",
       "      <td>1</td>\n",
       "      <td>11.99</td>\n",
       "      <td>04/12/19 14:38</td>\n",
       "      <td>669 Spruce St, Los Angeles, CA 90001</td>\n",
       "      <td>4</td>\n",
       "      <td>11.99</td>\n",
       "    </tr>\n",
       "    <tr>\n",
       "      <th>5</th>\n",
       "      <td>176561</td>\n",
       "      <td>Wired Headphones</td>\n",
       "      <td>1</td>\n",
       "      <td>11.99</td>\n",
       "      <td>04/30/19 09:27</td>\n",
       "      <td>333 8th St, Los Angeles, CA 90001</td>\n",
       "      <td>4</td>\n",
       "      <td>11.99</td>\n",
       "    </tr>\n",
       "  </tbody>\n",
       "</table>\n",
       "</div>"
      ],
      "text/plain": [
       "  Order ID                     Product  Quantity Ordered  Price Each  \\\n",
       "0   176558        USB-C Charging Cable                 2       11.95   \n",
       "2   176559  Bose SoundSport Headphones                 1       99.99   \n",
       "3   176560                Google Phone                 1      600.00   \n",
       "4   176560            Wired Headphones                 1       11.99   \n",
       "5   176561            Wired Headphones                 1       11.99   \n",
       "\n",
       "       Order Date                      Purchase Address  Month  Revenue  \n",
       "0  04/19/19 08:46          917 1st St, Dallas, TX 75001      4    23.90  \n",
       "2  04/07/19 22:30     682 Chestnut St, Boston, MA 02215      4    99.99  \n",
       "3  04/12/19 14:38  669 Spruce St, Los Angeles, CA 90001      4   600.00  \n",
       "4  04/12/19 14:38  669 Spruce St, Los Angeles, CA 90001      4    11.99  \n",
       "5  04/30/19 09:27     333 8th St, Los Angeles, CA 90001      4    11.99  "
      ]
     },
     "execution_count": 396,
     "metadata": {},
     "output_type": "execute_result"
    }
   ],
   "source": [
    "# separate the \"Order Date\" into month\n",
    "\n",
    "all_data['Month'] = all_data[\"Order Date\"].str[:2]\n",
    "all_data['Month'] = all_data['Month'].astype('int32')\n",
    "\n",
    "# Add revenues (q*p) column. First convert 'Quantity Ordered' and 'Price Each' to int and float\n",
    "\n",
    "all_data['Quantity Ordered'] = all_data['Quantity Ordered'].astype('int32')\n",
    "all_data['Price Each'] = all_data['Price Each'].astype('float')\n",
    "\n",
    "all_data['Revenue'] = all_data ['Quantity Ordered'] * all_data ['Price Each']\n",
    "\n",
    "all_data.head()"
   ]
  },
  {
   "cell_type": "code",
   "execution_count": 397,
   "id": "1d8ea4b2",
   "metadata": {},
   "outputs": [
    {
     "name": "stdout",
     "output_type": "stream",
     "text": [
      "Highest revenues were 9226886.68 in month 12\n"
     ]
    }
   ],
   "source": [
    "# filter results\n",
    "results_q1 = all_data.groupby('Month').sum()\n",
    "\n",
    "best_month_data = results_q1.loc[results['Revenue'].idxmax()]\n",
    "\n",
    "best_month_revenue = best_month_data['Revenue']\n",
    "best_month_number = best_month_data.name\n",
    "\n",
    "print(f'Highest revenues were {best_month_revenue} in month {best_month_number}')"
   ]
  },
  {
   "cell_type": "code",
   "execution_count": 398,
   "id": "ba32560c",
   "metadata": {},
   "outputs": [
    {
     "data": {
      "image/png": "[encoded data removed]",
      "text/plain": [
       "<Figure size 432x288 with 1 Axes>"
      ]
     },
     "metadata": {
      "needs_background": "light"
     },
     "output_type": "display_data"
    }
   ],
   "source": [
    "# plot bar chart\n",
    "import matplotlib.pyplot as plt\n",
    "\n",
    "# x axis\n",
    "months = all_data['Month'].sort_values().unique()\n",
    "months = months.tolist()\n",
    "\n",
    "plt.bar(months, results_q1['Revenue']/1_000_000)\n",
    "\n",
    "plt.xticks(months)\n",
    "plt.xlabel('Months')\n",
    "plt.ylabel('Revenue in Million USD')\n",
    "plt.show()"
   ]
  },
  {
   "cell_type": "markdown",
   "id": "8e76b5af",
   "metadata": {},
   "source": [
    "### Q2: What US city had the highest number of sales?"
   ]
  },
  {
   "cell_type": "code",
   "execution_count": 399,
   "id": "56557fed",
   "metadata": {},
   "outputs": [
    {
     "data": {
      "text/html": [
       "<div>\n",
       "<style scoped>\n",
       "    .dataframe tbody tr th:only-of-type {\n",
       "        vertical-align: middle;\n",
       "    }\n",
       "\n",
       "    .dataframe tbody tr th {\n",
       "        vertical-align: top;\n",
       "    }\n",
       "\n",
       "    .dataframe thead th {\n",
       "        text-align: right;\n",
       "    }\n",
       "</style>\n",
       "<table border=\"1\" class=\"dataframe\">\n",
       "  <thead>\n",
       "    <tr style=\"text-align: right;\">\n",
       "      <th></th>\n",
       "      <th>Order ID</th>\n",
       "      <th>Product</th>\n",
       "      <th>Quantity Ordered</th>\n",
       "      <th>Price Each</th>\n",
       "      <th>Order Date</th>\n",
       "      <th>Purchase Address</th>\n",
       "      <th>Month</th>\n",
       "      <th>Revenue</th>\n",
       "      <th>City</th>\n",
       "      <th>State</th>\n",
       "    </tr>\n",
       "  </thead>\n",
       "  <tbody>\n",
       "    <tr>\n",
       "      <th>0</th>\n",
       "      <td>176558</td>\n",
       "      <td>USB-C Charging Cable</td>\n",
       "      <td>2</td>\n",
       "      <td>11.95</td>\n",
       "      <td>04/19/19 08:46</td>\n",
       "      <td>917 1st St, Dallas, TX 75001</td>\n",
       "      <td>4</td>\n",
       "      <td>23.90</td>\n",
       "      <td>Dallas (TX)</td>\n",
       "      <td>TX</td>\n",
       "    </tr>\n",
       "    <tr>\n",
       "      <th>2</th>\n",
       "      <td>176559</td>\n",
       "      <td>Bose SoundSport Headphones</td>\n",
       "      <td>1</td>\n",
       "      <td>99.99</td>\n",
       "      <td>04/07/19 22:30</td>\n",
       "      <td>682 Chestnut St, Boston, MA 02215</td>\n",
       "      <td>4</td>\n",
       "      <td>99.99</td>\n",
       "      <td>Boston (MA)</td>\n",
       "      <td>MA</td>\n",
       "    </tr>\n",
       "    <tr>\n",
       "      <th>3</th>\n",
       "      <td>176560</td>\n",
       "      <td>Google Phone</td>\n",
       "      <td>1</td>\n",
       "      <td>600.00</td>\n",
       "      <td>04/12/19 14:38</td>\n",
       "      <td>669 Spruce St, Los Angeles, CA 90001</td>\n",
       "      <td>4</td>\n",
       "      <td>600.00</td>\n",
       "      <td>Los Angeles (CA)</td>\n",
       "      <td>CA</td>\n",
       "    </tr>\n",
       "    <tr>\n",
       "      <th>4</th>\n",
       "      <td>176560</td>\n",
       "      <td>Wired Headphones</td>\n",
       "      <td>1</td>\n",
       "      <td>11.99</td>\n",
       "      <td>04/12/19 14:38</td>\n",
       "      <td>669 Spruce St, Los Angeles, CA 90001</td>\n",
       "      <td>4</td>\n",
       "      <td>11.99</td>\n",
       "      <td>Los Angeles (CA)</td>\n",
       "      <td>CA</td>\n",
       "    </tr>\n",
       "    <tr>\n",
       "      <th>5</th>\n",
       "      <td>176561</td>\n",
       "      <td>Wired Headphones</td>\n",
       "      <td>1</td>\n",
       "      <td>11.99</td>\n",
       "      <td>04/30/19 09:27</td>\n",
       "      <td>333 8th St, Los Angeles, CA 90001</td>\n",
       "      <td>4</td>\n",
       "      <td>11.99</td>\n",
       "      <td>Los Angeles (CA)</td>\n",
       "      <td>CA</td>\n",
       "    </tr>\n",
       "  </tbody>\n",
       "</table>\n",
       "</div>"
      ],
      "text/plain": [
       "  Order ID                     Product  Quantity Ordered  Price Each  \\\n",
       "0   176558        USB-C Charging Cable                 2       11.95   \n",
       "2   176559  Bose SoundSport Headphones                 1       99.99   \n",
       "3   176560                Google Phone                 1      600.00   \n",
       "4   176560            Wired Headphones                 1       11.99   \n",
       "5   176561            Wired Headphones                 1       11.99   \n",
       "\n",
       "       Order Date                      Purchase Address  Month  Revenue  \\\n",
       "0  04/19/19 08:46          917 1st St, Dallas, TX 75001      4    23.90   \n",
       "2  04/07/19 22:30     682 Chestnut St, Boston, MA 02215      4    99.99   \n",
       "3  04/12/19 14:38  669 Spruce St, Los Angeles, CA 90001      4   600.00   \n",
       "4  04/12/19 14:38  669 Spruce St, Los Angeles, CA 90001      4    11.99   \n",
       "5  04/30/19 09:27     333 8th St, Los Angeles, CA 90001      4    11.99   \n",
       "\n",
       "                City State  \n",
       "0        Dallas (TX)    TX  \n",
       "2        Boston (MA)    MA  \n",
       "3   Los Angeles (CA)    CA  \n",
       "4   Los Angeles (CA)    CA  \n",
       "5   Los Angeles (CA)    CA  "
      ]
     },
     "execution_count": 399,
     "metadata": {},
     "output_type": "execute_result"
    }
   ],
   "source": [
    "# create city column\n",
    "def get_city(x):\n",
    "    return x.split(',')[1]\n",
    "def get_state(x):\n",
    "    return x.split(',')[2][1:3]\n",
    "\n",
    "all_data['City'] = all_data['Purchase Address'].apply(get_city)\n",
    "all_data['State'] = all_data['Purchase Address'].apply(get_state)\n",
    "all_data['City'] = all_data['City'] + \" (\" + all_data['State'] + \")\"\n",
    "all_data.head()"
   ]
  },
  {
   "cell_type": "code",
   "execution_count": 400,
   "id": "95e107b9",
   "metadata": {},
   "outputs": [
    {
     "name": "stdout",
     "output_type": "stream",
     "text": [
      "Highest revenues were 16524407.82 in city:  San Francisco (CA)\n"
     ]
    }
   ],
   "source": [
    "# get results\n",
    "results_q2 = all_data.groupby('City').sum()\n",
    "\n",
    "best_city_data = results_q2.loc[results_q2['Revenue'].idxmax()]\n",
    "\n",
    "best_city_revenue = best_city_data['Revenue']\n",
    "best_city = best_city_data.name\n",
    "\n",
    "print(f'Highest revenues were {best_city_revenue} in city: {best_city}')\n"
   ]
  },
  {
   "cell_type": "code",
   "execution_count": 401,
   "id": "c5f0ceab",
   "metadata": {},
   "outputs": [
    {
     "data": {
      "image/png": "[encoded data removed]",
      "text/plain": [
       "<Figure size 432x288 with 1 Axes>"
      ]
     },
     "metadata": {
      "needs_background": "light"
     },
     "output_type": "display_data"
    }
   ],
   "source": [
    "# plot bar chart\n",
    "\n",
    "# x axis\n",
    "months = all_data['City'].sort_values().unique()\n",
    "months = months.tolist()\n",
    "\n",
    "plt.bar(months, results_q2['Revenue']/1_000_000)\n",
    "\n",
    "plt.xticks(months, rotation = 'vertical', size = 10)\n",
    "plt.xlabel('Months')\n",
    "plt.ylabel('Revenue in Million USD')\n",
    "plt.show()"
   ]
  },
  {
   "cell_type": "markdown",
   "id": "b8c26004",
   "metadata": {},
   "source": [
    "### Q3: What time should we display advertisements to max likelihood of customer's buying product?"
   ]
  },
  {
   "cell_type": "code",
   "execution_count": 402,
   "id": "f56eed26",
   "metadata": {},
   "outputs": [],
   "source": [
    "# extract hour and minute column\n",
    "all_data['Order Date'] = pd.to_datetime(all_data['Order Date'])"
   ]
  },
  {
   "cell_type": "code",
   "execution_count": 403,
   "id": "3fc6be32",
   "metadata": {},
   "outputs": [
    {
     "data": {
      "text/html": [
       "<div>\n",
       "<style scoped>\n",
       "    .dataframe tbody tr th:only-of-type {\n",
       "        vertical-align: middle;\n",
       "    }\n",
       "\n",
       "    .dataframe tbody tr th {\n",
       "        vertical-align: top;\n",
       "    }\n",
       "\n",
       "    .dataframe thead th {\n",
       "        text-align: right;\n",
       "    }\n",
       "</style>\n",
       "<table border=\"1\" class=\"dataframe\">\n",
       "  <thead>\n",
       "    <tr style=\"text-align: right;\">\n",
       "      <th></th>\n",
       "      <th>Order ID</th>\n",
       "      <th>Product</th>\n",
       "      <th>Quantity Ordered</th>\n",
       "      <th>Price Each</th>\n",
       "      <th>Order Date</th>\n",
       "      <th>Purchase Address</th>\n",
       "      <th>Month</th>\n",
       "      <th>Revenue</th>\n",
       "      <th>City</th>\n",
       "      <th>State</th>\n",
       "      <th>Hour</th>\n",
       "      <th>Minute</th>\n",
       "    </tr>\n",
       "  </thead>\n",
       "  <tbody>\n",
       "    <tr>\n",
       "      <th>0</th>\n",
       "      <td>176558</td>\n",
       "      <td>USB-C Charging Cable</td>\n",
       "      <td>2</td>\n",
       "      <td>11.95</td>\n",
       "      <td>2019-04-19 08:46:00</td>\n",
       "      <td>917 1st St, Dallas, TX 75001</td>\n",
       "      <td>4</td>\n",
       "      <td>23.90</td>\n",
       "      <td>Dallas (TX)</td>\n",
       "      <td>TX</td>\n",
       "      <td>8</td>\n",
       "      <td>46</td>\n",
       "    </tr>\n",
       "    <tr>\n",
       "      <th>2</th>\n",
       "      <td>176559</td>\n",
       "      <td>Bose SoundSport Headphones</td>\n",
       "      <td>1</td>\n",
       "      <td>99.99</td>\n",
       "      <td>2019-04-07 22:30:00</td>\n",
       "      <td>682 Chestnut St, Boston, MA 02215</td>\n",
       "      <td>4</td>\n",
       "      <td>99.99</td>\n",
       "      <td>Boston (MA)</td>\n",
       "      <td>MA</td>\n",
       "      <td>22</td>\n",
       "      <td>30</td>\n",
       "    </tr>\n",
       "    <tr>\n",
       "      <th>3</th>\n",
       "      <td>176560</td>\n",
       "      <td>Google Phone</td>\n",
       "      <td>1</td>\n",
       "      <td>600.00</td>\n",
       "      <td>2019-04-12 14:38:00</td>\n",
       "      <td>669 Spruce St, Los Angeles, CA 90001</td>\n",
       "      <td>4</td>\n",
       "      <td>600.00</td>\n",
       "      <td>Los Angeles (CA)</td>\n",
       "      <td>CA</td>\n",
       "      <td>14</td>\n",
       "      <td>38</td>\n",
       "    </tr>\n",
       "    <tr>\n",
       "      <th>4</th>\n",
       "      <td>176560</td>\n",
       "      <td>Wired Headphones</td>\n",
       "      <td>1</td>\n",
       "      <td>11.99</td>\n",
       "      <td>2019-04-12 14:38:00</td>\n",
       "      <td>669 Spruce St, Los Angeles, CA 90001</td>\n",
       "      <td>4</td>\n",
       "      <td>11.99</td>\n",
       "      <td>Los Angeles (CA)</td>\n",
       "      <td>CA</td>\n",
       "      <td>14</td>\n",
       "      <td>38</td>\n",
       "    </tr>\n",
       "    <tr>\n",
       "      <th>5</th>\n",
       "      <td>176561</td>\n",
       "      <td>Wired Headphones</td>\n",
       "      <td>1</td>\n",
       "      <td>11.99</td>\n",
       "      <td>2019-04-30 09:27:00</td>\n",
       "      <td>333 8th St, Los Angeles, CA 90001</td>\n",
       "      <td>4</td>\n",
       "      <td>11.99</td>\n",
       "      <td>Los Angeles (CA)</td>\n",
       "      <td>CA</td>\n",
       "      <td>9</td>\n",
       "      <td>27</td>\n",
       "    </tr>\n",
       "  </tbody>\n",
       "</table>\n",
       "</div>"
      ],
      "text/plain": [
       "  Order ID                     Product  Quantity Ordered  Price Each  \\\n",
       "0   176558        USB-C Charging Cable                 2       11.95   \n",
       "2   176559  Bose SoundSport Headphones                 1       99.99   \n",
       "3   176560                Google Phone                 1      600.00   \n",
       "4   176560            Wired Headphones                 1       11.99   \n",
       "5   176561            Wired Headphones                 1       11.99   \n",
       "\n",
       "           Order Date                      Purchase Address  Month  Revenue  \\\n",
       "0 2019-04-19 08:46:00          917 1st St, Dallas, TX 75001      4    23.90   \n",
       "2 2019-04-07 22:30:00     682 Chestnut St, Boston, MA 02215      4    99.99   \n",
       "3 2019-04-12 14:38:00  669 Spruce St, Los Angeles, CA 90001      4   600.00   \n",
       "4 2019-04-12 14:38:00  669 Spruce St, Los Angeles, CA 90001      4    11.99   \n",
       "5 2019-04-30 09:27:00     333 8th St, Los Angeles, CA 90001      4    11.99   \n",
       "\n",
       "                City State  Hour  Minute  \n",
       "0        Dallas (TX)    TX     8      46  \n",
       "2        Boston (MA)    MA    22      30  \n",
       "3   Los Angeles (CA)    CA    14      38  \n",
       "4   Los Angeles (CA)    CA    14      38  \n",
       "5   Los Angeles (CA)    CA     9      27  "
      ]
     },
     "execution_count": 403,
     "metadata": {},
     "output_type": "execute_result"
    }
   ],
   "source": [
    "all_data['Hour'] = all_data['Order Date'].dt.hour\n",
    "all_data['Minute'] = all_data['Order Date'].dt.minute\n",
    "all_data.head()"
   ]
  },
  {
   "cell_type": "code",
   "execution_count": 404,
   "id": "08c53f68",
   "metadata": {},
   "outputs": [
    {
     "name": "stdout",
     "output_type": "stream",
     "text": [
      "Highest revenues were 4.82587708 M$ in hour: 19\n"
     ]
    }
   ],
   "source": [
    "# get results\n",
    "results_q3 = all_data.groupby('Hour').sum()\n",
    "\n",
    "best_hour_data = results_q3.loc[results_q3['Revenue'].idxmax()]\n",
    "\n",
    "best_hour_revenue = best_hour_data['Revenue']\n",
    "best_hour = best_hour_data.name\n",
    "\n",
    "print(f'Highest revenues were {best_hour_revenue/1_000_000} M$ in hour: {best_hour}')"
   ]
  },
  {
   "cell_type": "code",
   "execution_count": 405,
   "id": "0e7d8b4f",
   "metadata": {},
   "outputs": [
    {
     "data": {
      "image/png": "[encoded data removed]",
      "text/plain": [
       "<Figure size 432x288 with 1 Axes>"
      ]
     },
     "metadata": {
      "needs_background": "light"
     },
     "output_type": "display_data"
    }
   ],
   "source": [
    "# plot\n",
    "hours = all_data['Hour'].sort_values().unique()\n",
    "\n",
    "plt.plot(hours, results_q3['Revenue']/1_000_000)\n",
    "\n",
    "plt.xticks(hours, rotation = 'horizontal', size = 10)\n",
    "plt.grid()\n",
    "plt.xlabel('Hour')\n",
    "plt.ylabel('Revenue in Million USD')\n",
    "plt.show()"
   ]
  },
  {
   "cell_type": "markdown",
   "id": "267cc8c7",
   "metadata": {},
   "source": [
    "### Q4: What products are most often sold together"
   ]
  },
  {
   "cell_type": "code",
   "execution_count": 465,
   "id": "bcd10fc8",
   "metadata": {
    "scrolled": false
   },
   "outputs": [
    {
     "data": {
      "text/plain": [
       "Order ID\n",
       "141234                                     [iPhone, iPhone]\n",
       "141235    [Lightning Charging Cable, Lightning Charging ...\n",
       "141236                 [Wired Headphones, Wired Headphones]\n",
       "141237                 [27in FHD Monitor, 27in FHD Monitor]\n",
       "141238                 [Wired Headphones, Wired Headphones]\n",
       "                                ...                        \n",
       "319666    [Lightning Charging Cable, Lightning Charging ...\n",
       "319667       [AA Batteries (4-pack), AA Batteries (4-pack)]\n",
       "319668                   [Vareebadd Phone, Vareebadd Phone]\n",
       "319669                 [Wired Headphones, Wired Headphones]\n",
       "319670    [Bose SoundSport Headphones, Bose SoundSport H...\n",
       "Name: Product, Length: 178437, dtype: object"
      ]
     },
     "execution_count": 465,
     "metadata": {},
     "output_type": "execute_result"
    }
   ],
   "source": [
    "# get duplicated 'Order ID'\n",
    "# df_dup = all_data[all_data.duplicated(subset = 'Order ID', keep = False)]\n",
    "df_dup = all_data[all_data['Order ID'].duplicated(keep=False)]\n",
    "# df_dup\n",
    "# all_data['Product aggregated'] = df.groupby('Order ID')['Product'].transform(lambda x: ','.join(x))\n",
    "# all_data['Product aggregated'].unique\n",
    "\n",
    "output_series = df_dup.groupby(['Order ID'])['Product'].apply(list)\n",
    "output_series\n",
    "\n",
    "# Can't manage to merge products from the same ID into a list. I know how to do it but it's very neanderthal. Next question"
   ]
  },
  {
   "cell_type": "markdown",
   "id": "c49a4365",
   "metadata": {},
   "source": [
    "### Q5: What product sold the most? Why do you think it sold the most?"
   ]
  },
  {
   "cell_type": "code",
   "execution_count": 485,
   "id": "fb4a8ce2",
   "metadata": {},
   "outputs": [
    {
     "data": {
      "text/plain": [
       "Product\n",
       "Macbook Pro Laptop            16075200.00\n",
       "iPhone                         9588600.00\n",
       "ThinkPad Laptop                8259917.40\n",
       "Google Phone                   6638400.00\n",
       "27in 4K Gaming Monitor         4870195.12\n",
       "34in Ultrawide Monitor         4711116.02\n",
       "Apple Airpods Headphones       4698300.00\n",
       "Flatscreen TV                  2891400.00\n",
       "Bose SoundSport Headphones     2691130.86\n",
       "27in FHD Monitor               2264849.00\n",
       "Vareebadd Phone                1654400.00\n",
       "20in Monitor                    908297.42\n",
       "LG Washing Machine              799200.00\n",
       "LG Dryer                        775200.00\n",
       "Lightning Charging Cable        694188.30\n",
       "USB-C Charging Cable            573002.50\n",
       "Wired Headphones                492956.86\n",
       "AA Batteries (4-pack)           212236.80\n",
       "AAA Batteries (4-pack)          185481.66\n",
       "Name: Revenue, dtype: float64"
      ]
     },
     "execution_count": 485,
     "metadata": {},
     "output_type": "execute_result"
    }
   ],
   "source": [
    "# Sold the most in terms of revenue\n",
    "\n",
    "result_q5 = all_data.groupby(['Product']).sum()\n",
    "result_q5['Revenue'].sort_values(ascending=False)"
   ]
  },
  {
   "cell_type": "code",
   "execution_count": 484,
   "id": "b4f29050",
   "metadata": {},
   "outputs": [
    {
     "data": {
      "text/plain": [
       "Product\n",
       "AAA Batteries (4-pack)        62034\n",
       "AA Batteries (4-pack)         55270\n",
       "USB-C Charging Cable          47950\n",
       "Lightning Charging Cable      46434\n",
       "Wired Headphones              41114\n",
       "Apple Airpods Headphones      31322\n",
       "Bose SoundSport Headphones    26914\n",
       "27in FHD Monitor              15100\n",
       "iPhone                        13698\n",
       "27in 4K Gaming Monitor        12488\n",
       "34in Ultrawide Monitor        12398\n",
       "Google Phone                  11064\n",
       "Flatscreen TV                  9638\n",
       "Macbook Pro Laptop             9456\n",
       "ThinkPad Laptop                8260\n",
       "20in Monitor                   8258\n",
       "Vareebadd Phone                4136\n",
       "LG Washing Machine             1332\n",
       "LG Dryer                       1292\n",
       "Name: Quantity Ordered, dtype: int32"
      ]
     },
     "execution_count": 484,
     "metadata": {},
     "output_type": "execute_result"
    }
   ],
   "source": [
    "# Sold the most in terms of quantity\n",
    "result_q5 = all_data.groupby(['Product']).sum()\n",
    "result_q5['Quantity Ordered'].sort_values(ascending=False)"
   ]
  },
  {
   "cell_type": "code",
   "execution_count": null,
   "id": "b0d11426",
   "metadata": {},
   "outputs": [],
   "source": []
  }
 ],
 "metadata": {
  "kernelspec": {
   "display_name": "Python 3 (ipykernel)",
   "language": "python",
   "name": "python3"
  },
  "language_info": {
   "codemirror_mode": {
    "name": "ipython",
    "version": 3
   },
   "file_extension": ".py",
   "mimetype": "text/x-python",
   "name": "python",
   "nbconvert_exporter": "python",
   "pygments_lexer": "ipython3",
   "version": "3.9.12"
  }
 },
 "nbformat": 4,
 "nbformat_minor": 5
}
